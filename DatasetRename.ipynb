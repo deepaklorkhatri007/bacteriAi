{
 "cells": [
  {
   "cell_type": "code",
   "execution_count": 2,
   "metadata": {},
   "outputs": [],
   "source": [
    "import cv2\n",
    "import matplotlib.pyplot as plt\n",
    "import os"
   ]
  },
  {
   "cell_type": "code",
   "execution_count": 6,
   "metadata": {},
   "outputs": [],
   "source": [
    "folder = \"data/\"\n",
    "subfolder = [\"positive\", \"negative\"]\n",
    "for sub in subfolder:\n",
    "    count = 1\n",
    "#     print(folder+sub)\n",
    "    path = folder+sub\n",
    "    for filename in os.listdir(path):\n",
    "        if filename.startswith(sub):\n",
    "#             print(filename, str(count)+\".jpg\")\n",
    "            os.rename(os.path.join(path, filename), os.path.join(path, sub+str(count)+\".jpg\"))\n",
    "            count+=1"
   ]
  },
  {
   "cell_type": "code",
   "execution_count": null,
   "metadata": {},
   "outputs": [],
   "source": []
  }
 ],
 "metadata": {
  "kernelspec": {
   "display_name": "Python 3",
   "language": "python",
   "name": "python3"
  },
  "language_info": {
   "codemirror_mode": {
    "name": "ipython",
    "version": 3
   },
   "file_extension": ".py",
   "mimetype": "text/x-python",
   "name": "python",
   "nbconvert_exporter": "python",
   "pygments_lexer": "ipython3",
   "version": "3.7.3"
  }
 },
 "nbformat": 4,
 "nbformat_minor": 4
}
