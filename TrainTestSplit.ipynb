{
 "cells": [
  {
   "cell_type": "code",
   "execution_count": 1,
   "metadata": {},
   "outputs": [],
   "source": [
    "import os\n",
    "from shutil import copyfile"
   ]
  },
  {
   "cell_type": "code",
   "execution_count": 2,
   "metadata": {},
   "outputs": [],
   "source": [
    "images = 3500\n",
    "train_test = [int(images*.8), int(images*.2)]"
   ]
  },
  {
   "cell_type": "code",
   "execution_count": 3,
   "metadata": {},
   "outputs": [],
   "source": [
    "# Training Dataset    \n",
    "for name in range(1, train_test[0]):\n",
    "    copyfile(\"data/positive/positive\"+str(name)+\".jpg\", \"dataset/train/positive\"+str(name)+\".jpg\")\n",
    "    copyfile(\"data/negative/negative\"+str(name)+\".jpg\", \"dataset/train/negative\"+str(name)+\".jpg\")"
   ]
  },
  {
   "cell_type": "code",
   "execution_count": 4,
   "metadata": {},
   "outputs": [],
   "source": [
    "# Test Dataset\n",
    "for name in range(train_test[0],train_test[0] + train_test[1]):\n",
    "    copyfile(\"data/positive/positive\"+str(name)+\".jpg\", \"dataset/test/positive\"+str(name)+\".jpg\")\n",
    "    copyfile(\"data/negative/negative\"+str(name)+\".jpg\", \"dataset/test/negative\"+str(name)+\".jpg\")"
   ]
  }
 ],
 "metadata": {
  "kernelspec": {
   "display_name": "Python 3",
   "language": "python",
   "name": "python3"
  },
  "language_info": {
   "codemirror_mode": {
    "name": "ipython",
    "version": 3
   },
   "file_extension": ".py",
   "mimetype": "text/x-python",
   "name": "python",
   "nbconvert_exporter": "python",
   "pygments_lexer": "ipython3",
   "version": "3.7.3"
  }
 },
 "nbformat": 4,
 "nbformat_minor": 4
}
